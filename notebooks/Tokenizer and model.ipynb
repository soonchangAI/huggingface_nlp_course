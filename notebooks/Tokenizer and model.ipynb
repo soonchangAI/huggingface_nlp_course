{
 "cells": [
  {
   "cell_type": "markdown",
   "id": "07393297-4787-4a78-9841-053bf8142bc0",
   "metadata": {},
   "source": [
    "![image](en_chapter2_full_nlp_pipeline.svg)"
   ]
  },
  {
   "cell_type": "markdown",
   "id": "08b1f23f-7ff8-486f-a5eb-0d569c66e9ae",
   "metadata": {},
   "source": [
    "## preprocessing with a tokenizer\n",
    "* Tokenizer splits input into tokens (words, subwords or symbols)\n",
    "* Maps each token to an integer\n",
    "* Adds additional inputs that maybe useful to the model\n",
    "\n",
    "<code>AutoTokenizer</code> and its & <code>from_pretrained</code> are used to fetch tokenizer's data and cache it\n",
    "* Output consists of two keys <code>input_ids</code> and <code>attention_mask</code>"
   ]
  },
  {
   "cell_type": "code",
   "execution_count": 1,
   "id": "ae720224-1675-457d-a6b4-89037be06fce",
   "metadata": {},
   "outputs": [
    {
     "name": "stderr",
     "output_type": "stream",
     "text": [
      "/home/cybertron/anaconda3/envs/llava/lib/python3.10/site-packages/tqdm/auto.py:21: TqdmWarning: IProgress not found. Please update jupyter and ipywidgets. See https://ipywidgets.readthedocs.io/en/stable/user_install.html\n",
      "  from .autonotebook import tqdm as notebook_tqdm\n"
     ]
    }
   ],
   "source": [
    "from transformers import AutoTokenizer\n",
    "\n",
    "checkpoint = \"distilbert-base-uncased-finetuned-sst-2-english\"\n",
    "tokenizer = AutoTokenizer.from_pretrained(checkpoint)"
   ]
  },
  {
   "cell_type": "code",
   "execution_count": 2,
   "id": "b13f3094-a74e-465e-a149-08083a46de3c",
   "metadata": {},
   "outputs": [
    {
     "name": "stdout",
     "output_type": "stream",
     "text": [
      "{'input_ids': tensor([[  101,  1045,  1005,  2310,  2042,  3403,  2005,  1037, 12090, 10733,\n",
      "          2026,  2878,  2166,   102],\n",
      "        [  101, 16773, 18959,  7222, 23804,  2015,  2006, 10733,   999,   102,\n",
      "             0,     0,     0,     0]]), 'attention_mask': tensor([[1, 1, 1, 1, 1, 1, 1, 1, 1, 1, 1, 1, 1, 1],\n",
      "        [1, 1, 1, 1, 1, 1, 1, 1, 1, 1, 0, 0, 0, 0]])}\n"
     ]
    }
   ],
   "source": [
    "raw_inputs = [\"I've been waiting for a delicious pizza my whole life\",\n",
    "              \"Italians dislike pineapples on pizza!\"]\n",
    "inputs = tokenizer(raw_inputs, padding=True, truncation=True, return_tensors=\"pt\")\n",
    "print(inputs)"
   ]
  },
  {
   "cell_type": "markdown",
   "id": "2069a596-3347-4645-a93f-b23cba9dde8b",
   "metadata": {},
   "source": [
    "## Model\n",
    "* Vector output generally has 3 dimensions:\n",
    "    *  **Batch size**\n",
    "    *  **Sequence length**\n",
    "    *  **Hidden size**\n",
    "      \n",
    "* The outputs of Transformer models behave like namedtuples or dictionaries. The element can be accessed by attributes"
   ]
  },
  {
   "cell_type": "code",
   "execution_count": 5,
   "id": "af9cfa10-a90f-4c08-b530-39867df4d80d",
   "metadata": {},
   "outputs": [
    {
     "name": "stdout",
     "output_type": "stream",
     "text": [
      "torch.Size([2, 14, 768])\n"
     ]
    }
   ],
   "source": [
    "from transformers import AutoModel\n",
    "\n",
    "checkpoint = \"distilbert-base-uncased-finetuned-sst-2-english\"\n",
    "model = AutoModel.from_pretrained(checkpoint)\n",
    "outputs = model(**inputs)\n",
    "print(outputs.last_hidden_state.shape)"
   ]
  },
  {
   "cell_type": "markdown",
   "id": "a0dd7ed2-b3fd-40c8-a9d1-1930acb8b056",
   "metadata": {},
   "source": [
    "Model head "
   ]
  },
  {
   "cell_type": "code",
   "execution_count": 6,
   "id": "0a1de2bb-b0ab-406c-8272-875e4deb42ef",
   "metadata": {},
   "outputs": [
    {
     "name": "stdout",
     "output_type": "stream",
     "text": [
      "torch.Size([2, 2])\n"
     ]
    }
   ],
   "source": [
    "from transformers import AutoModelForSequenceClassification\n",
    "\n",
    "checkpoint = 'distilbert-base-uncased-finetuned-sst-2-english'\n",
    "model = AutoModelForSequenceClassification.from_pretrained(checkpoint)\n",
    "outputs = model(**inputs)\n",
    "print(outputs.logits.shape)"
   ]
  },
  {
   "cell_type": "markdown",
   "id": "cffc6df2-b67a-49c4-a466-63869ee03456",
   "metadata": {},
   "source": [
    "Postprocessing the output\n",
    "* Transformers models output the logits: raw unnormalized scores by the last layer of the model\n",
    "* Pass logits through Softmax to convert to probabilities"
   ]
  },
  {
   "cell_type": "code",
   "execution_count": 7,
   "id": "3f52e658-3bbb-42f3-bc42-1757c8d23353",
   "metadata": {},
   "outputs": [
    {
     "name": "stdout",
     "output_type": "stream",
     "text": [
      "tensor([[-3.3514,  3.5402],\n",
      "        [ 2.7452, -2.3027]], grad_fn=<AddmmBackward0>)\n"
     ]
    }
   ],
   "source": [
    "print(outputs.logits)"
   ]
  },
  {
   "cell_type": "code",
   "execution_count": 8,
   "id": "97554d5c-1c3b-4808-a76f-73bb822d49a1",
   "metadata": {},
   "outputs": [
    {
     "name": "stdout",
     "output_type": "stream",
     "text": [
      "tensor([[0.0010, 0.9990],\n",
      "        [0.9936, 0.0064]], grad_fn=<SoftmaxBackward0>)\n"
     ]
    }
   ],
   "source": [
    "import torch\n",
    "import torch.nn.functional as F\n",
    "\n",
    "predictions = F.softmax(outputs.logits, dim=-1)\n",
    "print(predictions)"
   ]
  },
  {
   "cell_type": "code",
   "execution_count": 9,
   "id": "eabf6c6d-27e7-4d63-9f2c-9bb6ef9b9053",
   "metadata": {},
   "outputs": [
    {
     "data": {
      "text/plain": [
       "{0: 'NEGATIVE', 1: 'POSITIVE'}"
      ]
     },
     "execution_count": 9,
     "metadata": {},
     "output_type": "execute_result"
    }
   ],
   "source": [
    "model.config.id2label"
   ]
  },
  {
   "cell_type": "code",
   "execution_count": 18,
   "id": "e69bb919-e20b-49a8-a22a-a9b4d23bf87f",
   "metadata": {},
   "outputs": [
    {
     "name": "stdout",
     "output_type": "stream",
     "text": [
      "I've been waiting for a delicious pizza my whole life : POSITIVE\n",
      "Italians dislike pineapples on pizza! : NEGATIVE\n"
     ]
    }
   ],
   "source": [
    "print(\"{} : {}\".format(raw_inputs[0],model.config.id2label[torch.argmax(predictions[0]).item()]))\n",
    "print(\"{} : {}\".format(raw_inputs[1],model.config.id2label[torch.argmax(predictions[1]).item()]))"
   ]
  },
  {
   "cell_type": "code",
   "execution_count": 23,
   "id": "02247735-754d-4d08-875f-911e05226b76",
   "metadata": {},
   "outputs": [
    {
     "name": "stdout",
     "output_type": "stream",
     "text": [
      "tensor([[9.7303e-01, 2.6972e-02],\n",
      "        [1.6480e-04, 9.9984e-01]], grad_fn=<SoftmaxBackward0>)\n",
      "torch.Size([2, 2])\n",
      "Some might be appalled by durian's strong smell. : NEGATIVE\n",
      "Durian is the best fruit in the world. : POSITIVE\n"
     ]
    }
   ],
   "source": [
    "raw_inputs2 = [\"Some might be appalled by durian's strong smell.\",\n",
    "              \"Durian is the best fruit in the world.\"]\n",
    "\n",
    "inputs2 = tokenizer(raw_inputs2, padding=True, truncation=True, return_tensors=\"pt\")\n",
    "model = AutoModelForSequenceClassification.from_pretrained(checkpoint)\n",
    "outputs2 = model(**inputs2)\n",
    "predictions2 = F.softmax(outputs2.logits, dim=-1)\n",
    "print(predictions2)\n",
    "print(predictions2.shape)\n",
    "print(\"{} : {}\".format(raw_inputs2[0],model.config.id2label[torch.argmax(predictions2[0]).item()]))\n",
    "print(\"{} : {}\".format(raw_inputs2[1],model.config.id2label[torch.argmax(predictions2[1]).item()]))"
   ]
  },
  {
   "cell_type": "code",
   "execution_count": 25,
   "id": "1dd4c9d9-a81c-450e-84c7-91c0a5447558",
   "metadata": {},
   "outputs": [
    {
     "name": "stdout",
     "output_type": "stream",
     "text": [
      "tensor([[2.4188e-04, 9.9976e-01],\n",
      "        [9.9967e-01, 3.3493e-04]], grad_fn=<SoftmaxBackward0>)\n",
      "torch.Size([2, 2])\n",
      "I take a taxi to the airport happily. : POSITIVE\n",
      "Genocide is a bad thing. : NEGATIVE\n"
     ]
    }
   ],
   "source": [
    "raw_inputs2 = [\"I take a taxi to the airport happily.\",\n",
    "              \"Genocide is a bad thing.\"]\n",
    "\n",
    "inputs2 = tokenizer(raw_inputs2, padding=True, truncation=True, return_tensors=\"pt\")\n",
    "model = AutoModelForSequenceClassification.from_pretrained(checkpoint)\n",
    "outputs2 = model(**inputs2)\n",
    "predictions2 = F.softmax(outputs2.logits, dim=-1)\n",
    "print(predictions2)\n",
    "print(predictions2.shape)\n",
    "print(\"{} : {}\".format(raw_inputs2[0],model.config.id2label[torch.argmax(predictions2[0]).item()]))\n",
    "print(\"{} : {}\".format(raw_inputs2[1],model.config.id2label[torch.argmax(predictions2[1]).item()]))"
   ]
  },
  {
   "cell_type": "code",
   "execution_count": null,
   "id": "43d45a6e-a941-4949-88b3-04098436e9be",
   "metadata": {},
   "outputs": [],
   "source": []
  }
 ],
 "metadata": {
  "kernelspec": {
   "display_name": "Python 3 (ipykernel)",
   "language": "python",
   "name": "python3"
  },
  "language_info": {
   "codemirror_mode": {
    "name": "ipython",
    "version": 3
   },
   "file_extension": ".py",
   "mimetype": "text/x-python",
   "name": "python",
   "nbconvert_exporter": "python",
   "pygments_lexer": "ipython3",
   "version": "3.10.13"
  }
 },
 "nbformat": 4,
 "nbformat_minor": 5
}
